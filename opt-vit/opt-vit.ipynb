{
 "cells": [
  {
   "cell_type": "code",
   "execution_count": 15,
   "metadata": {
    "collapsed": true
   },
   "outputs": [
    {
     "name": "stdout",
     "output_type": "stream",
     "text": [
      "Requirement already satisfied: optimum[onnxruntime]==1.5.0 in /home/marvin/miniconda3/envs/pytorch/lib/python3.8/site-packages (1.5.0)\r\n",
      "Requirement already satisfied: evaluate[evaluator] in /home/marvin/miniconda3/envs/pytorch/lib/python3.8/site-packages (0.4.0)\r\n",
      "Requirement already satisfied: sklearn in /home/marvin/miniconda3/envs/pytorch/lib/python3.8/site-packages (0.0.post1)\r\n",
      "Requirement already satisfied: mkl-include in /home/marvin/miniconda3/envs/pytorch/lib/python3.8/site-packages (2023.0.0)\r\n",
      "Requirement already satisfied: mkl in /home/marvin/miniconda3/envs/pytorch/lib/python3.8/site-packages (2023.0.0)\r\n",
      "Requirement already satisfied: numpy in /home/marvin/miniconda3/envs/pytorch/lib/python3.8/site-packages (from optimum[onnxruntime]==1.5.0) (1.23.4)\r\n",
      "Requirement already satisfied: packaging in /home/marvin/miniconda3/envs/pytorch/lib/python3.8/site-packages (from optimum[onnxruntime]==1.5.0) (23.0)\r\n",
      "Requirement already satisfied: coloredlogs in /home/marvin/miniconda3/envs/pytorch/lib/python3.8/site-packages (from optimum[onnxruntime]==1.5.0) (15.0.1)\r\n",
      "Requirement already satisfied: huggingface-hub>=0.8.0 in /home/marvin/miniconda3/envs/pytorch/lib/python3.8/site-packages (from optimum[onnxruntime]==1.5.0) (0.12.1)\r\n",
      "Requirement already satisfied: torch>=1.9 in /home/marvin/miniconda3/envs/pytorch/lib/python3.8/site-packages (from optimum[onnxruntime]==1.5.0) (1.13.0)\r\n",
      "Requirement already satisfied: transformers[sentencepiece]>=4.20.1 in /home/marvin/miniconda3/envs/pytorch/lib/python3.8/site-packages (from optimum[onnxruntime]==1.5.0) (4.26.1)\r\n",
      "Requirement already satisfied: sympy in /home/marvin/miniconda3/envs/pytorch/lib/python3.8/site-packages (from optimum[onnxruntime]==1.5.0) (1.11.1)\r\n",
      "Requirement already satisfied: onnxruntime>=1.9.0 in /home/marvin/miniconda3/envs/pytorch/lib/python3.8/site-packages (from optimum[onnxruntime]==1.5.0) (1.14.0)\r\n",
      "Requirement already satisfied: datasets>=1.2.1 in /home/marvin/miniconda3/envs/pytorch/lib/python3.8/site-packages (from optimum[onnxruntime]==1.5.0) (2.10.0)\r\n",
      "Requirement already satisfied: protobuf==3.20.1 in /home/marvin/miniconda3/envs/pytorch/lib/python3.8/site-packages (from optimum[onnxruntime]==1.5.0) (3.20.1)\r\n",
      "Requirement already satisfied: onnx in /home/marvin/miniconda3/envs/pytorch/lib/python3.8/site-packages (from optimum[onnxruntime]==1.5.0) (1.12.0)\r\n",
      "Requirement already satisfied: xxhash in /home/marvin/miniconda3/envs/pytorch/lib/python3.8/site-packages (from evaluate[evaluator]) (3.2.0)\r\n",
      "Requirement already satisfied: fsspec[http]>=2021.05.0 in /home/marvin/miniconda3/envs/pytorch/lib/python3.8/site-packages (from evaluate[evaluator]) (2023.1.0)\r\n",
      "Requirement already satisfied: dill in /home/marvin/miniconda3/envs/pytorch/lib/python3.8/site-packages (from evaluate[evaluator]) (0.3.6)\r\n",
      "Requirement already satisfied: pandas in /home/marvin/miniconda3/envs/pytorch/lib/python3.8/site-packages (from evaluate[evaluator]) (1.3.5)\r\n",
      "Requirement already satisfied: responses<0.19 in /home/marvin/miniconda3/envs/pytorch/lib/python3.8/site-packages (from evaluate[evaluator]) (0.18.0)\r\n",
      "Requirement already satisfied: tqdm>=4.62.1 in /home/marvin/miniconda3/envs/pytorch/lib/python3.8/site-packages (from evaluate[evaluator]) (4.64.1)\r\n",
      "Requirement already satisfied: requests>=2.19.0 in /home/marvin/miniconda3/envs/pytorch/lib/python3.8/site-packages (from evaluate[evaluator]) (2.28.2)\r\n",
      "Requirement already satisfied: multiprocess in /home/marvin/miniconda3/envs/pytorch/lib/python3.8/site-packages (from evaluate[evaluator]) (0.70.14)\r\n",
      "Requirement already satisfied: scipy>=1.7.1 in /home/marvin/miniconda3/envs/pytorch/lib/python3.8/site-packages (from evaluate[evaluator]) (1.8.1)\r\n",
      "Requirement already satisfied: tbb==2021.* in /home/marvin/miniconda3/envs/pytorch/lib/python3.8/site-packages (from mkl) (2021.8.0)\r\n",
      "Requirement already satisfied: intel-openmp==2023.* in /home/marvin/miniconda3/envs/pytorch/lib/python3.8/site-packages (from mkl) (2023.0.0)\r\n",
      "Requirement already satisfied: aiohttp in /home/marvin/miniconda3/envs/pytorch/lib/python3.8/site-packages (from datasets>=1.2.1->optimum[onnxruntime]==1.5.0) (3.8.4)\r\n",
      "Requirement already satisfied: pyyaml>=5.1 in /home/marvin/miniconda3/envs/pytorch/lib/python3.8/site-packages (from datasets>=1.2.1->optimum[onnxruntime]==1.5.0) (6.0)\r\n",
      "Requirement already satisfied: pyarrow>=6.0.0 in /home/marvin/miniconda3/envs/pytorch/lib/python3.8/site-packages (from datasets>=1.2.1->optimum[onnxruntime]==1.5.0) (11.0.0)\r\n",
      "Requirement already satisfied: typing-extensions>=3.7.4.3 in /home/marvin/miniconda3/envs/pytorch/lib/python3.8/site-packages (from huggingface-hub>=0.8.0->optimum[onnxruntime]==1.5.0) (4.5.0)\r\n",
      "Requirement already satisfied: filelock in /home/marvin/miniconda3/envs/pytorch/lib/python3.8/site-packages (from huggingface-hub>=0.8.0->optimum[onnxruntime]==1.5.0) (3.9.0)\r\n",
      "Requirement already satisfied: flatbuffers in /home/marvin/miniconda3/envs/pytorch/lib/python3.8/site-packages (from onnxruntime>=1.9.0->optimum[onnxruntime]==1.5.0) (23.1.21)\r\n",
      "Requirement already satisfied: charset-normalizer<4,>=2 in /home/marvin/miniconda3/envs/pytorch/lib/python3.8/site-packages (from requests>=2.19.0->evaluate[evaluator]) (3.0.1)\r\n",
      "Requirement already satisfied: urllib3<1.27,>=1.21.1 in /home/marvin/miniconda3/envs/pytorch/lib/python3.8/site-packages (from requests>=2.19.0->evaluate[evaluator]) (1.26.14)\r\n",
      "Requirement already satisfied: idna<4,>=2.5 in /home/marvin/miniconda3/envs/pytorch/lib/python3.8/site-packages (from requests>=2.19.0->evaluate[evaluator]) (3.4)\r\n",
      "Requirement already satisfied: certifi>=2017.4.17 in /home/marvin/miniconda3/envs/pytorch/lib/python3.8/site-packages (from requests>=2.19.0->evaluate[evaluator]) (2022.12.7)\r\n",
      "Requirement already satisfied: nvidia-cublas-cu11==11.10.3.66 in /home/marvin/miniconda3/envs/pytorch/lib/python3.8/site-packages (from torch>=1.9->optimum[onnxruntime]==1.5.0) (11.10.3.66)\r\n",
      "Requirement already satisfied: nvidia-cuda-runtime-cu11==11.7.99 in /home/marvin/miniconda3/envs/pytorch/lib/python3.8/site-packages (from torch>=1.9->optimum[onnxruntime]==1.5.0) (11.7.99)\r\n",
      "Requirement already satisfied: nvidia-cudnn-cu11==8.5.0.96 in /home/marvin/miniconda3/envs/pytorch/lib/python3.8/site-packages (from torch>=1.9->optimum[onnxruntime]==1.5.0) (8.5.0.96)\r\n",
      "Requirement already satisfied: nvidia-cuda-nvrtc-cu11==11.7.99 in /home/marvin/miniconda3/envs/pytorch/lib/python3.8/site-packages (from torch>=1.9->optimum[onnxruntime]==1.5.0) (11.7.99)\r\n",
      "Requirement already satisfied: setuptools in /home/marvin/miniconda3/envs/pytorch/lib/python3.8/site-packages (from nvidia-cublas-cu11==11.10.3.66->torch>=1.9->optimum[onnxruntime]==1.5.0) (65.6.3)\r\n",
      "Requirement already satisfied: wheel in /home/marvin/miniconda3/envs/pytorch/lib/python3.8/site-packages (from nvidia-cublas-cu11==11.10.3.66->torch>=1.9->optimum[onnxruntime]==1.5.0) (0.38.4)\r\n",
      "Requirement already satisfied: regex!=2019.12.17 in /home/marvin/miniconda3/envs/pytorch/lib/python3.8/site-packages (from transformers[sentencepiece]>=4.20.1->optimum[onnxruntime]==1.5.0) (2022.10.31)\r\n",
      "Requirement already satisfied: tokenizers!=0.11.3,<0.14,>=0.11.1 in /home/marvin/miniconda3/envs/pytorch/lib/python3.8/site-packages (from transformers[sentencepiece]>=4.20.1->optimum[onnxruntime]==1.5.0) (0.13.2)\r\n",
      "Requirement already satisfied: sentencepiece!=0.1.92,>=0.1.91 in /home/marvin/miniconda3/envs/pytorch/lib/python3.8/site-packages (from transformers[sentencepiece]>=4.20.1->optimum[onnxruntime]==1.5.0) (0.1.97)\r\n",
      "Requirement already satisfied: humanfriendly>=9.1 in /home/marvin/miniconda3/envs/pytorch/lib/python3.8/site-packages (from coloredlogs->optimum[onnxruntime]==1.5.0) (10.0)\r\n",
      "Requirement already satisfied: python-dateutil>=2.7.3 in /home/marvin/miniconda3/envs/pytorch/lib/python3.8/site-packages (from pandas->evaluate[evaluator]) (2.8.2)\r\n",
      "Requirement already satisfied: pytz>=2017.3 in /home/marvin/miniconda3/envs/pytorch/lib/python3.8/site-packages (from pandas->evaluate[evaluator]) (2022.7.1)\r\n",
      "Requirement already satisfied: mpmath>=0.19 in /home/marvin/miniconda3/envs/pytorch/lib/python3.8/site-packages (from sympy->optimum[onnxruntime]==1.5.0) (1.2.1)\r\n",
      "Requirement already satisfied: aiosignal>=1.1.2 in /home/marvin/miniconda3/envs/pytorch/lib/python3.8/site-packages (from aiohttp->datasets>=1.2.1->optimum[onnxruntime]==1.5.0) (1.3.1)\r\n",
      "Requirement already satisfied: yarl<2.0,>=1.0 in /home/marvin/miniconda3/envs/pytorch/lib/python3.8/site-packages (from aiohttp->datasets>=1.2.1->optimum[onnxruntime]==1.5.0) (1.8.2)\r\n",
      "Requirement already satisfied: attrs>=17.3.0 in /home/marvin/miniconda3/envs/pytorch/lib/python3.8/site-packages (from aiohttp->datasets>=1.2.1->optimum[onnxruntime]==1.5.0) (22.2.0)\r\n",
      "Requirement already satisfied: async-timeout<5.0,>=4.0.0a3 in /home/marvin/miniconda3/envs/pytorch/lib/python3.8/site-packages (from aiohttp->datasets>=1.2.1->optimum[onnxruntime]==1.5.0) (4.0.2)\r\n",
      "Requirement already satisfied: multidict<7.0,>=4.5 in /home/marvin/miniconda3/envs/pytorch/lib/python3.8/site-packages (from aiohttp->datasets>=1.2.1->optimum[onnxruntime]==1.5.0) (6.0.4)\r\n",
      "Requirement already satisfied: frozenlist>=1.1.1 in /home/marvin/miniconda3/envs/pytorch/lib/python3.8/site-packages (from aiohttp->datasets>=1.2.1->optimum[onnxruntime]==1.5.0) (1.3.3)\r\n",
      "Requirement already satisfied: six>=1.5 in /home/marvin/miniconda3/envs/pytorch/lib/python3.8/site-packages (from python-dateutil>=2.7.3->pandas->evaluate[evaluator]) (1.16.0)\r\n"
     ]
    }
   ],
   "source": [
    "# BKM from https://www.philschmid.de/optimizing-vision-transformer\n",
    "\n",
    "!pip install \"optimum[onnxruntime]==1.5.0\" evaluate[evaluator] sklearn mkl-include mkl --upgrade\n"
   ]
  },
  {
   "cell_type": "code",
   "execution_count": 16,
   "outputs": [
    {
     "name": "stderr",
     "output_type": "stream",
     "text": [
      "Could not find image processor class in the image processor config or the model config. Loading based on pattern matching with the model's feature extractor configuration.\n",
      "/home/marvin/miniconda3/envs/pytorch/lib/python3.8/site-packages/transformers/models/vit/modeling_vit.py:165: TracerWarning: Converting a tensor to a Python boolean might cause the trace to be incorrect. We can't record the data flow of Python values, so this value will be treated as a constant in the future. This means that the trace might not generalize to other inputs!\n",
      "  if num_channels != self.num_channels:\n",
      "/home/marvin/miniconda3/envs/pytorch/lib/python3.8/site-packages/transformers/models/vit/modeling_vit.py:170: TracerWarning: Converting a tensor to a Python boolean might cause the trace to be incorrect. We can't record the data flow of Python values, so this value will be treated as a constant in the future. This means that the trace might not generalize to other inputs!\n",
      "  if height != self.image_size[0] or width != self.image_size[1]:\n",
      "/home/marvin/miniconda3/envs/pytorch/lib/python3.8/site-packages/transformers/models/vit/feature_extraction_vit.py:28: FutureWarning: The class ViTFeatureExtractor is deprecated and will be removed in version 5 of Transformers. Please use ViTImageProcessor instead.\n",
      "  warnings.warn(\n"
     ]
    },
    {
     "data": {
      "text/plain": "['onnx/preprocessor_config.json']"
     },
     "execution_count": 16,
     "metadata": {},
     "output_type": "execute_result"
    }
   ],
   "source": [
    "from optimum.onnxruntime import ORTModelForImageClassification\n",
    "from transformers import AutoFeatureExtractor\n",
    "from pathlib import Path\n",
    "\n",
    "\n",
    "model_id=\"nateraw/vit-base-beans\"\n",
    "onnx_path = Path(\"onnx\")\n",
    "\n",
    "# load vanilla transformers and convert to onnx\n",
    "model = ORTModelForImageClassification.from_pretrained(model_id, from_transformers=True)\n",
    "preprocessor = AutoFeatureExtractor.from_pretrained(model_id)\n",
    "\n",
    "# save onnx checkpoint and tokenizer\n",
    "model.save_pretrained(onnx_path)\n",
    "preprocessor.save_pretrained(onnx_path)\n"
   ],
   "metadata": {
    "collapsed": false
   }
  },
  {
   "cell_type": "code",
   "execution_count": 17,
   "outputs": [
    {
     "name": "stdout",
     "output_type": "stream",
     "text": [
      "[{'score': 0.9579877257347107, 'label': 'healthy'}, {'score': 0.021719953045248985, 'label': 'bean_rust'}, {'score': 0.020292332395911217, 'label': 'angular_leaf_spot'}]\n"
     ]
    }
   ],
   "source": [
    "from transformers import pipeline\n",
    "\n",
    "vanilla_clf = pipeline(\"image-classification\", model=model, feature_extractor=preprocessor)\n",
    "print(vanilla_clf(\"https://datasets-server.huggingface.co/assets/beans/--/default/validation/30/image/image.jpg\"))\n"
   ],
   "metadata": {
    "collapsed": false
   }
  },
  {
   "cell_type": "code",
   "execution_count": 18,
   "outputs": [],
   "source": [
    "from optimum.onnxruntime import ORTQuantizer\n",
    "from optimum.onnxruntime.configuration import AutoQuantizationConfig\n",
    "\n",
    "# create ORTQuantizer and define quantization configuration\n",
    "dynamic_quantizer = ORTQuantizer.from_pretrained(model)\n",
    "dqconfig = AutoQuantizationConfig.avx2(is_static=False, per_channel=False)\n",
    "\n",
    "# apply the quantization configuration to the model\n",
    "model_quantized_path = dynamic_quantizer.quantize(\n",
    "    save_dir=onnx_path,\n",
    "    quantization_config=dqconfig,\n",
    ")\n"
   ],
   "metadata": {
    "collapsed": false
   }
  },
  {
   "cell_type": "code",
   "execution_count": 19,
   "outputs": [
    {
     "name": "stdout",
     "output_type": "stream",
     "text": [
      "Model file size: 327.56 MB\n",
      "Quantized Model file size: 84.76 MB\n"
     ]
    }
   ],
   "source": [
    "import os\n",
    "\n",
    "# get model file size\n",
    "size = os.path.getsize(onnx_path / \"model.onnx\")/(1024*1024)\n",
    "quantized_model = os.path.getsize(onnx_path / \"model_quantized.onnx\")/(1024*1024)\n",
    "\n",
    "print(f\"Model file size: {size:.2f} MB\")\n",
    "print(f\"Quantized Model file size: {quantized_model:.2f} MB\")\n",
    "#   Model file size: 330.27 MB\n",
    "#   Quantized Model file size: 84.50 MB\n"
   ],
   "metadata": {
    "collapsed": false
   }
  },
  {
   "cell_type": "code",
   "execution_count": 20,
   "outputs": [
    {
     "name": "stdout",
     "output_type": "stream",
     "text": [
      "[{'score': 0.9565075039863586, 'label': 'healthy'}, {'score': 0.022508859634399414, 'label': 'bean_rust'}, {'score': 0.020983604714274406, 'label': 'angular_leaf_spot'}]\n"
     ]
    }
   ],
   "source": [
    "from optimum.onnxruntime import ORTModelForImageClassification\n",
    "from transformers import pipeline, AutoFeatureExtractor\n",
    "\n",
    "model = ORTModelForImageClassification.from_pretrained(onnx_path, file_name=\"model_quantized.onnx\")\n",
    "preprocessor = AutoFeatureExtractor.from_pretrained(onnx_path)\n",
    "\n",
    "q8_clf = pipeline(\"image-classification\", model=model, feature_extractor=preprocessor)\n",
    "print(q8_clf(\"https://datasets-server.huggingface.co/assets/beans/--/default/validation/30/image/image.jpg\"))\n"
   ],
   "metadata": {
    "collapsed": false
   }
  },
  {
   "cell_type": "code",
   "execution_count": 21,
   "outputs": [
    {
     "name": "stderr",
     "output_type": "stream",
     "text": [
      "WARNING:datasets.builder:Found cached dataset beans (/home/marvin/.cache/huggingface/datasets/beans/default/0.0.0/90c755fb6db1c0ccdad02e897a37969dbf070bed3755d4391e269ff70642d791)\n"
     ]
    },
    {
     "data": {
      "text/plain": "  0%|          | 0/1 [00:00<?, ?it/s]",
      "application/vnd.jupyter.widget-view+json": {
       "version_major": 2,
       "version_minor": 0,
       "model_id": "3ce7dafe42d84266b2d90222af5dd86a"
      }
     },
     "metadata": {},
     "output_type": "display_data"
    },
    {
     "name": "stdout",
     "output_type": "stream",
     "text": [
      "Vanilla model: 96.88%\n",
      "Quantized model: 96.88%\n",
      "The quantized model achieves 99.99% accuracy of the fp32 model\n"
     ]
    }
   ],
   "source": [
    "from evaluate import evaluator\n",
    "from datasets import load_dataset\n",
    "\n",
    "e = evaluator(\"image-classification\")\n",
    "eval_dataset = load_dataset(\"beans\",split=[\"test\"])[0]\n",
    "\n",
    "results = e.compute(\n",
    "    model_or_pipeline=q8_clf,\n",
    "    data=eval_dataset,\n",
    "    metric=\"accuracy\",\n",
    "    input_column=\"image\",\n",
    "    label_column=\"labels\",\n",
    "    label_mapping=model.config.label2id,\n",
    "    strategy=\"simple\",\n",
    ")\n",
    "\n",
    "print(f\"Vanilla model: 96.88%\")\n",
    "print(f\"Quantized model: {results['accuracy']*100:.2f}%\")\n",
    "print(f\"The quantized model achieves {round(results['accuracy']/0.9688,4)*100:.2f}% accuracy of the fp32 model\")\n",
    "\n",
    "#    Vanilla model: 96.88%\n",
    "#    Quantized model: 96.88%\n",
    "#    The quantized model achieves 99.99% accuracy of the fp32 model\n"
   ],
   "metadata": {
    "collapsed": false
   }
  },
  {
   "cell_type": "code",
   "execution_count": 22,
   "outputs": [
    {
     "name": "stdout",
     "output_type": "stream",
     "text": [
      "Vanilla model: P95 latency (ms) - 43.17981459462317; Average latency (ms) - 39.07 +\\- 1.96;\n",
      "Quantized model: P95 latency (ms) - 23.400302302616183; Average latency (ms) - 23.07 +\\- 0.26;\n",
      "Improvement through quantization: 1.85x\n"
     ]
    }
   ],
   "source": [
    "from time import perf_counter\n",
    "import numpy as np\n",
    "from PIL import Image\n",
    "import requests\n",
    "\n",
    "payload=\"https://datasets-server.huggingface.co/assets/beans/--/default/validation/30/image/image.jpg\"\n",
    "\n",
    "def measure_latency(pipe):\n",
    "    # prepare date\n",
    "    image = Image.open(requests.get(payload, stream=True).raw)\n",
    "    inputs = pipe.feature_extractor(images=image, return_tensors=\"pt\")\n",
    "    latencies = []\n",
    "    # warm up\n",
    "    for _ in range(10):\n",
    "        _ = pipe.model(**inputs)\n",
    "    # Timed run\n",
    "    for _ in range(200):\n",
    "        start_time = perf_counter()\n",
    "        _ =  pipe.model(**inputs)\n",
    "        latency = perf_counter() - start_time\n",
    "        latencies.append(latency)\n",
    "    # Compute run statistics\n",
    "    time_avg_ms = 1000 * np.mean(latencies)\n",
    "    time_std_ms = 1000 * np.std(latencies)\n",
    "    time_p95_ms = 1000 * np.percentile(latencies,95)\n",
    "    return f\"P95 latency (ms) - {time_p95_ms}; Average latency (ms) - {time_avg_ms:.2f} +\\- {time_std_ms:.2f};\", time_p95_ms\n",
    "\n",
    "\n",
    "vanilla_model=measure_latency(vanilla_clf)\n",
    "quantized_model=measure_latency(q8_clf)\n",
    "\n",
    "print(f\"Vanilla model: {vanilla_model[0]}\")\n",
    "print(f\"Quantized model: {quantized_model[0]}\")\n",
    "print(f\"Improvement through quantization: {round(vanilla_model[1]/quantized_model[1],2)}x\")\n",
    "\n",
    "#    Vanilla model: P95 latency (ms) - 165.06651640004284; Average latency (ms) - 149.00 +\\- 11.22;\n",
    "#    Quantized model: P95 latency (ms) - 63.56140074997256; Average latency (ms) - 62.81 +\\- 2.18;\n",
    "#    Improvement through quantization: 2.6x\n"
   ],
   "metadata": {
    "collapsed": false
   }
  },
  {
   "cell_type": "code",
   "execution_count": 22,
   "outputs": [],
   "source": [],
   "metadata": {
    "collapsed": false
   }
  }
 ],
 "metadata": {
  "kernelspec": {
   "display_name": "Python 3",
   "language": "python",
   "name": "python3"
  },
  "language_info": {
   "codemirror_mode": {
    "name": "ipython",
    "version": 2
   },
   "file_extension": ".py",
   "mimetype": "text/x-python",
   "name": "python",
   "nbconvert_exporter": "python",
   "pygments_lexer": "ipython2",
   "version": "2.7.6"
  }
 },
 "nbformat": 4,
 "nbformat_minor": 0
}
